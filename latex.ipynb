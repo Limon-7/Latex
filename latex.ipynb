{
 "cells": [
  {
   "attachments": {},
   "cell_type": "markdown",
   "metadata": {},
   "source": [
    "[How To markdown:](https://ashki23.github.io/markdown-latex.html)"
   ]
  },
  {
   "attachments": {},
   "cell_type": "markdown",
   "metadata": {},
   "source": [
    "> Imagination is more important than knowledge.<br>\n",
    "---\n",
    "hello"
   ]
  },
  {
   "attachments": {},
   "cell_type": "markdown",
   "metadata": {},
   "source": [
    "Col-1|col-2|col-3|action\n",
    "---|:---:|---: |---:\n",
    "col 1 is|left-aligned|1\n",
    "col 2 is|center-aligned|2\n",
    "col 3 is|right-aligned|3"
   ]
  },
  {
   "attachments": {},
   "cell_type": "markdown",
   "metadata": {},
   "source": [
    "Inline Math Function: `Inline equation: $equation$`\n",
    "$f(x)=x^2$ <br>\n",
    "\n"
   ]
  },
  {
   "attachments": {},
   "cell_type": "markdown",
   "metadata": {},
   "source": [
    "- `$x + y$ = `$x + y$\n",
    "- `$x \\times y$ = `: $x \\times y$ \n",
    "- `$x \\div y$ = `: $x \\div y$\n",
    "- `$\\dfrac{x}{y}$ = `$\\dfrac{x}{y}$\n",
    "- `$\\sqrt{x}$ = :`$\\sqrt{x}$"
   ]
  },
  {
   "attachments": {},
   "cell_type": "markdown",
   "metadata": {},
   "source": [
    "### Symbols:\n",
    "- $\\pi \\approx 3.14159$\n",
    "- $\\pm \\, 0.2$\n",
    "- $\\dfrac{0}{1} \\neq \\infty$\n",
    "- $0 < x < 1$\n",
    "- $0 \\leq x \\leq 1$\n",
    "- $x \\geq 10$\n",
    "- $\\forall \\, x \\in (1,2)$\n",
    "- $\\exists \\, x \\notin [0,1]$\n",
    "- $A \\subset B$\n",
    "- $A \\subseteq B$\n",
    "- $A \\cup B$\n",
    "- $A \\cap B$\n",
    "- $X \\implies Y$\n",
    "- $X \\impliedby Y$\n",
    "- $a \\to b$\n",
    "- $a \\longrightarrow b$\n",
    "- $a \\Rightarrow b$\n",
    "- $a \\Longrightarrow b$\n",
    "- $a \\propto b$"
   ]
  },
  {
   "attachments": {},
   "cell_type": "markdown",
   "metadata": {},
   "source": [
    "More symbol:\n",
    "- $\\bar a$\n",
    "- $\\tilde a$\n",
    "- $\\breve a$\n",
    "- $\\hat a$\n",
    "- $a^ \\prime$\n",
    "- $a^ \\dagger$\n",
    "- $a^ \\ast$\n",
    "- $a^ \\star$\n",
    "- $\\mathcal A$\n",
    "- $\\mathrm a$\n",
    "- $\\cdots$\n",
    "- $\\vdots$\n",
    "- $\\#$\n",
    "- $\\$$\n",
    "- $\\%$\n",
    "- $\\&$\n",
    "- $\\{ \\}$\n",
    "- $\\_$"
   ]
  },
  {
   "attachments": {},
   "cell_type": "markdown",
   "metadata": {},
   "source": [
    "## space\n",
    "1. Horizontal space: $\\quad$\n",
    "2. Large horizontal space: \\qquad = $\\qquad$\n",
    "3. Small space = $ \\,$\n",
    "4. Medium space =  $\\:$\n",
    "5. Large space =  $\\;$\n",
    "6. Negative space = $\\!$"
   ]
  },
  {
   "attachments": {},
   "cell_type": "markdown",
   "metadata": {},
   "source": []
  },
  {
   "attachments": {},
   "cell_type": "markdown",
   "metadata": {},
   "source": [
    "### Greek Alphabets:\n",
    "<!-- ---|:---:|---: |---: -->\n",
    "Small letter|Capital Latter|Alternative\n",
    "---|:---:|---:\n",
    "$\\alpha$ \\alpha| \n",
    "$\\beta$ \\beta|\n",
    "$\\pi$ \\pi| $\\Pi$ \\Pi|\n",
    "$\\gamma$ \\gamma| $\\Gamma$ \\Gamma\n",
    "$\\beta$ \\beta| $\\Beta$ \\Beta\n",
    "$\\epsilon$ \\epsilon| $\\Epsilon$ \\Epsilon\n",
    "$\\zeta$ \\zeta| $\\Zeta$ \\Zeta\n",
    "$\\eta$ \\eta| $\\Eta$ \\Eta\n",
    "$\\theta$ \\theta | $\\Theta$ \\Theta|$\\vartheta$\\vartheta\n",
    "$\\zeta$\\vartheta |\n",
    "$\\kappa$\\kappa|| $\\varkappa$\\varkappa\n",
    "$\\lambda$\\lambda | $\\Lambda$\\lambda\n",
    "$\\mu$\\mu|$\\Mu$\\Mu\n",
    "$\\nu$\\nu|$\\Nu$\\Nu\n",
    "$\\xi$\\xi|$\\Xi$\\Xi\n",
    "$\\omicron$\\omicron\n",
    "$\\pi$\\pi|$\\Pi$\\Pi|$\\varpi$\n",
    "$\\rho$\\rho|$\\rho$\\rho|$\\varrho$\\varrho\n",
    "$\\sigma$\\sigma|$\\Sigma$\\Sigma|$\\varsigma$\\varsigma\n",
    "$\\tau$\\tau|$\\Tau$\\Tau\n",
    "$\\upsilon$\\upsilon|$\\Upsilon$\\Upsilon\n",
    "$\\phi$\\phi|$\\Phi$\\Phi|$\\varphi$\\Varphi\n",
    "$\\chi$\\chi|$\\Chi$\\Chi\n",
    "$\\psi$\\psi|$\\Psi$\\Psi\n",
    "$\\omega$\\omega|$\\Omega$\\Omega"
   ]
  },
  {
   "attachments": {},
   "cell_type": "markdown",
   "metadata": {},
   "source": [
    "### Equation:\n",
    "$$\\mathbb{N} = \\{ a \\in \\mathbb{Z} : a > 0 \\}$$\n",
    "$$\\forall \\; x \\in X \\quad \\exists \\; y \\leq \\epsilon$$\n",
    "$$\\color{blue}{X \\sim Normal \\; (\\mu,\\sigma^2)}$$\n",
    "$$P \\left( A=2 \\, \\middle| \\, \\dfrac{A^2}{B}>4 \\right)$$\n",
    "$$f(x) = x^2 - x^\\frac{1}{\\pi}$$\n",
    "$$f(X,n) = X_n + X_{n-1}$$\n",
    "$$f(x) = \\sqrt[3]{2x} + \\sqrt{x-2}$$\n",
    "$$\\mathrm{e} = \\sum_{n=0}^{\\infty} \\dfrac{1}{n!}$$\n",
    "$$\\prod_{i=1}^{n} x_i - 1$$\n",
    "$$\\lim_{x \\to 0^+} \\dfrac{1}{x} = \\infty$$\n",
    "$$\\int_a^b y \\: \\mathrm{d}x$$\n",
    "$$\\log_a b = 1$$\n",
    "$$\\max(S) = \\max_{i:S_i \\in S} S_i$$\n",
    "$$\\dfrac{n!}{k!(n-k)!} = \\binom{n}{k}$$\n",
    "$$\\text{$\\dfrac{b}{a+b}=3, \\:$ therefore we can set $\\: a=6$}$$"
   ]
  },
  {
   "attachments": {},
   "cell_type": "markdown",
   "metadata": {},
   "source": [
    "## Function:\n",
    "$$\n",
    "f(x)=\n",
    "\\begin{cases}\n",
    "1/d_{ij} & \\quad \\text{when $d_{ij} \\leq 160$}\\\\ \n",
    "0 & \\quad \\text{otherwise}\n",
    "\\end{cases}\n",
    "$$"
   ]
  },
  {
   "attachments": {},
   "cell_type": "markdown",
   "metadata": {},
   "source": [
    "## Matrices:\n",
    "1. \n",
    "$$\n",
    "\\begin{matrix}\n",
    "1 & 2 & 3 \\\\\n",
    "4 & 5 & 6 \\\\\n",
    "7 & 8 & 9\n",
    "\\end{matrix}\n",
    "$$"
   ]
  },
  {
   "attachments": {},
   "cell_type": "markdown",
   "metadata": {},
   "source": [
    "2. \n",
    "$$\n",
    "M = \n",
    "\\begin{bmatrix}\n",
    "\\frac{5}{6} & \\frac{1}{6} & 0 \\\\[0.3em]\n",
    "\\frac{5}{6} & 0 & \\frac{1}{6} \\\\[0.3em]\n",
    "0 & \\frac{5}{6} & \\frac{1}{6}\n",
    "\\end{bmatrix}\n",
    "$$"
   ]
  },
  {
   "attachments": {},
   "cell_type": "markdown",
   "metadata": {},
   "source": [
    "3.\n",
    "$$ \n",
    "M =\n",
    "\\begin{bmatrix}\n",
    "1 & 0 \\\\\n",
    "0 & 1\n",
    "\\end{bmatrix}\n",
    "\\begin{bmatrix}\n",
    "1 & 0 \\\\\n",
    "0 & 1\n",
    "\\end{bmatrix}\n",
    "$$"
   ]
  },
  {
   "attachments": {},
   "cell_type": "markdown",
   "metadata": {},
   "source": [
    "4. \n",
    "$$ \n",
    "M =\n",
    "\\begin{pmatrix}\n",
    "1 & 0 \\\\\n",
    "0 & 1\n",
    "\\end{pmatrix}\n",
    "\\begin{pmatrix}\n",
    "1 & 0 \\\\\n",
    "0 & 1\n",
    "\\end{pmatrix}\n",
    "$$"
   ]
  },
  {
   "attachments": {},
   "cell_type": "markdown",
   "metadata": {},
   "source": [
    "5. \n",
    "$$\n",
    "A_{m,n} = \n",
    "\\begin{pmatrix}\n",
    "a_{1,1} & a_{1,2} & \\cdots & a_{1,n} \\\\\n",
    "a_{2,1} & a_{2,2} & \\cdots & a_{2,n} \\\\\n",
    "\\vdots & \\vdots & \\ddots & \\vdots \\\\\n",
    "a_{m,1} & a_{m,2} & \\cdots & a_{m,n} \n",
    "\\end{pmatrix}\n",
    "$$"
   ]
  },
  {
   "attachments": {},
   "cell_type": "markdown",
   "metadata": {},
   "source": [
    "6. \n",
    "$\\Huge Hello!$\n",
    "$\\huge Hello!$\n",
    "$\\LARGE Hello!$\n",
    "$\\Large Hello!$\n",
    "$\\large Hello!$\n",
    "$\\normalsize Hello!$\n",
    "$\\small Hello!$\n",
    "$\\scriptsize Hello!$\n",
    "$\\tiny Hello!$"
   ]
  },
  {
   "attachments": {},
   "cell_type": "markdown",
   "metadata": {},
   "source": [
    "7. \n",
    "$$\\small \\text{Font size is small, eg. $\\sum{x_i = 10}$}$$\n"
   ]
  }
 ],
 "metadata": {
  "language_info": {
   "name": "python"
  },
  "orig_nbformat": 4
 },
 "nbformat": 4,
 "nbformat_minor": 2
}
